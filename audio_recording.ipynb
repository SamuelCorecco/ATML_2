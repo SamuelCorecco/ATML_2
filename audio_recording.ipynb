{
 "cells": [
  {
   "cell_type": "markdown",
   "metadata": {},
   "source": [
    "# Voice recording for tts custom voice training\n",
    "\n",
    "## Instructions (read carefully)\n",
    "\n",
    "Run the first two cells without touching anything.\n",
    "They are already set.\n",
    "\n",
    "The third cell is a collection of sentences you will have to read while recording (done in the 4th cell).\n",
    "The sentences are designed to contain a variety of phonetic sounds.\n",
    "\n",
    "In the fourth cell, make sure that the variable CUSTOM_VOICE_NAME is your name. (It should be correct already, but double check)\n",
    "\n",
    "Run the cell and the recording will start.\n",
    "\n",
    "It will record ten clips of 10s each, so it will take about 2 minutes.\n",
    "\n",
    "Please, if you can, make sure to speak in a clear way, with a good microphone and the least backgound noise possible.\n",
    "This is very important for the quality of the final result.\n",
    "\n",
    "After the recording is done, you will find the files in a folder called custom_voice. Please send that folder back to me (either a zip file or per wetransfer.)"
   ]
  },
  {
   "cell_type": "code",
   "execution_count": 15,
   "metadata": {},
   "outputs": [
    {
     "name": "stdout",
     "output_type": "stream",
     "text": [
      "Requirement already satisfied: wavio in ./.venv/lib/python3.10/site-packages (0.0.9)\n",
      "Requirement already satisfied: numpy>=1.19.0 in ./.venv/lib/python3.10/site-packages (from wavio) (2.2.1)\n",
      "Note: you may need to restart the kernel to use updated packages.\n",
      "Requirement already satisfied: scipy in ./.venv/lib/python3.10/site-packages (1.15.0)\n",
      "Requirement already satisfied: numpy<2.5,>=1.23.5 in ./.venv/lib/python3.10/site-packages (from scipy) (2.2.1)\n",
      "Note: you may need to restart the kernel to use updated packages.\n",
      "Requirement already satisfied: sounddevice in ./.venv/lib/python3.10/site-packages (0.5.1)\n",
      "Requirement already satisfied: CFFI>=1.0 in ./.venv/lib/python3.10/site-packages (from sounddevice) (1.17.1)\n",
      "Requirement already satisfied: pycparser in ./.venv/lib/python3.10/site-packages (from CFFI>=1.0->sounddevice) (2.22)\n",
      "Note: you may need to restart the kernel to use updated packages.\n"
     ]
    }
   ],
   "source": [
    "%pip install wavio\n",
    "%pip install scipy\n",
    "%pip install sounddevice"
   ]
  },
  {
   "cell_type": "code",
   "execution_count": 16,
   "metadata": {},
   "outputs": [],
   "source": [
    "# import required libraries\n",
    "import sounddevice as sd\n",
    "from scipy.io.wavfile import write\n",
    "import wavio as wv\n",
    "import time\n",
    "import os\n"
   ]
  },
  {
   "cell_type": "code",
   "execution_count": 17,
   "metadata": {},
   "outputs": [
    {
     "name": "stdout",
     "output_type": "stream",
     "text": [
      "  0 Alfio’s iPhone Microphone, Core Audio (1 in, 0 out)\n",
      "> 1 MacBook Pro Microphone, Core Audio (1 in, 0 out)\n",
      "< 2 MacBook Pro Speakers, Core Audio (0 in, 2 out)\n",
      "  3 Microsoft Teams Audio, Core Audio (1 in, 1 out)\n"
     ]
    }
   ],
   "source": [
    "print(sd.query_devices())\n",
    "\n",
    "#get the number of input channels\n",
    "channels = sd.query_devices(sd.default.device, 'input')['max_input_channels']\n",
    "\n",
    "# Sampling frequency\n",
    "freq = 22050\n",
    "\n",
    "# Recording duration\n",
    "duration = 10\n",
    "\n",
    "def record(freq, duration, output_file):\n",
    "\n",
    "    print(\"Recording!\")\n",
    "\n",
    "\n",
    "    # Start recorder with the given values of duration and sample frequency\n",
    "    recording = sd.rec(int(duration * freq), \n",
    "                    samplerate=freq, channels = channels)\n",
    "\n",
    "    # Record audio for the given number of seconds\n",
    "    sd.wait()\n",
    "\n",
    "    # Convert the NumPy array to audio file\n",
    "    wv.write(output_file, recording, freq, sampwidth=2)\n",
    "    \n",
    "    # print(\"Stop!\")\n"
   ]
  },
  {
   "cell_type": "markdown",
   "metadata": {},
   "source": [
    "## Read from this text when running the cell below\n",
    "\n",
    "Prosecutors have opened a massive investigation into allegations of fixing games and illegal betting.\n",
    "\n",
    "Different telescope designs perform differently and have different strengths and weaknesses.\n",
    "\n",
    "We can continue to strengthen the education of good lawyers.\n",
    "\n",
    "Feedback must be timely and accurate throughout the project.\n",
    "\n",
    "Humans also judge distance by using the relative sizes of objects.\n",
    "\n",
    "Churches should not encourage it or make it look harmless.\n",
    "\n",
    "Learn about setting up wireless network configuration.\n",
    "\n",
    "The quick brown fox jumps over the lazy dog.\n",
    "\n",
    "She sells sea shells by the seashore.\n",
    "\n",
    "A big black bear sat on a big black rug.\n",
    "\n",
    "The curious cat crept cautiously into the corner cave.\n",
    "\n",
    "I thought the thick thorn would tear through the thumb.\n",
    "\n",
    "Jack’s giant giraffe jogged gently across the grassy jungle.\n",
    "\n",
    "Fred’s fried fish was fresh but frightfully filling.\n",
    "\n",
    "The sly snake slithered silently, seeking something savory.\n",
    "\n",
    "Wendy’s waffles were wonderfully warm and widely welcomed.\n",
    "\n",
    "Peter’s parrot picked pieces of perfect papayas.\n",
    "\n",
    "Zoe zoomed zealously past the zany zebra.\n",
    "\n",
    "Victor’s violin vibrated vividly in the vast valley.\n",
    "\n",
    "Chloe chose cheerful cherries, chewing them cheerfully.\n",
    "\n",
    "Harry’s happy hamster hopped hastily home.\n",
    "\n",
    "The brave knight knew his new quest was near.\n",
    "\n",
    "A gentle giant juggled jelly jars joyfully.\n",
    "\n",
    "Xavier’s xylophone echoed across the expansive exhibition.\n",
    "\n",
    "The damp lamp lit the camp with a yellow glow.\n",
    "\n",
    "My hungry uncle ate a huge bundle of bananas.\n",
    "\n",
    "The noisy airplane roared as it soared high in the sky."
   ]
  },
  {
   "cell_type": "code",
   "execution_count": 3,
   "metadata": {},
   "outputs": [
    {
     "name": "stdout",
     "output_type": "stream",
     "text": [
      "Recording!\n"
     ]
    },
    {
     "ename": "KeyboardInterrupt",
     "evalue": "",
     "output_type": "error",
     "traceback": [
      "\u001b[0;31m---------------------------------------------------------------------------\u001b[0m",
      "\u001b[0;31mKeyboardInterrupt\u001b[0m                         Traceback (most recent call last)",
      "Cell \u001b[0;32mIn[3], line 16\u001b[0m\n\u001b[1;32m     14\u001b[0m \u001b[38;5;28;01mfor\u001b[39;00m i \u001b[38;5;129;01min\u001b[39;00m \u001b[38;5;28mrange\u001b[39m(\u001b[38;5;241m10\u001b[39m):\n\u001b[1;32m     15\u001b[0m     output_file \u001b[38;5;241m=\u001b[39m \u001b[38;5;124mf\u001b[39m\u001b[38;5;124m\"\u001b[39m\u001b[38;5;124mcustom_voice/\u001b[39m\u001b[38;5;132;01m{\u001b[39;00mCUSTOM_VOICE_NAME\u001b[38;5;132;01m}\u001b[39;00m\u001b[38;5;124m/\u001b[39m\u001b[38;5;132;01m{\u001b[39;00mCUSTOM_VOICE_NAME\u001b[38;5;132;01m}\u001b[39;00m\u001b[38;5;124m_\u001b[39m\u001b[38;5;132;01m{\u001b[39;00mrecording_number\u001b[38;5;132;01m}\u001b[39;00m\u001b[38;5;124m.wav\u001b[39m\u001b[38;5;124m\"\u001b[39m\n\u001b[0;32m---> 16\u001b[0m     \u001b[43mrecord\u001b[49m\u001b[43m(\u001b[49m\u001b[43mfreq\u001b[49m\u001b[43m,\u001b[49m\u001b[43m \u001b[49m\u001b[43mduration\u001b[49m\u001b[43m,\u001b[49m\u001b[43m \u001b[49m\u001b[43moutput_file\u001b[49m\u001b[43m)\u001b[49m\n\u001b[1;32m     17\u001b[0m     \u001b[38;5;28mprint\u001b[39m(\u001b[38;5;124mf\u001b[39m\u001b[38;5;124m\"\u001b[39m\u001b[38;5;124mRecording \u001b[39m\u001b[38;5;132;01m{\u001b[39;00mrecording_number\u001b[38;5;132;01m}\u001b[39;00m\u001b[38;5;124m done!\u001b[39m\u001b[38;5;124m\"\u001b[39m)\n\u001b[1;32m     18\u001b[0m     recording_number \u001b[38;5;241m+\u001b[39m\u001b[38;5;241m=\u001b[39m \u001b[38;5;241m1\u001b[39m\n",
      "Cell \u001b[0;32mIn[2], line 31\u001b[0m, in \u001b[0;36mrecord\u001b[0;34m(freq, duration, output_file)\u001b[0m\n\u001b[1;32m     27\u001b[0m recording \u001b[38;5;241m=\u001b[39m sd\u001b[38;5;241m.\u001b[39mrec(\u001b[38;5;28mint\u001b[39m(duration \u001b[38;5;241m*\u001b[39m freq), \n\u001b[1;32m     28\u001b[0m                 samplerate\u001b[38;5;241m=\u001b[39mfreq, channels\u001b[38;5;241m=\u001b[39m\u001b[38;5;241m1\u001b[39m)\n\u001b[1;32m     30\u001b[0m \u001b[38;5;66;03m# Record audio for the given number of seconds\u001b[39;00m\n\u001b[0;32m---> 31\u001b[0m \u001b[43msd\u001b[49m\u001b[38;5;241;43m.\u001b[39;49m\u001b[43mwait\u001b[49m\u001b[43m(\u001b[49m\u001b[43m)\u001b[49m\n\u001b[1;32m     33\u001b[0m \u001b[38;5;66;03m# Convert the NumPy array to audio file\u001b[39;00m\n\u001b[1;32m     34\u001b[0m wv\u001b[38;5;241m.\u001b[39mwrite(output_file, recording, freq, sampwidth\u001b[38;5;241m=\u001b[39m\u001b[38;5;241m2\u001b[39m)\n",
      "File \u001b[0;32m/opt/homebrew/lib/python3.9/site-packages/sounddevice.py:398\u001b[0m, in \u001b[0;36mwait\u001b[0;34m(ignore_errors)\u001b[0m\n\u001b[1;32m    382\u001b[0m \u001b[38;5;250m\u001b[39m\u001b[38;5;124;03m\"\"\"Wait for `play()`/`rec()`/`playrec()` to be finished.\u001b[39;00m\n\u001b[1;32m    383\u001b[0m \n\u001b[1;32m    384\u001b[0m \u001b[38;5;124;03mPlayback/recording can be stopped with a `KeyboardInterrupt`.\u001b[39;00m\n\u001b[0;32m   (...)\u001b[0m\n\u001b[1;32m    395\u001b[0m \n\u001b[1;32m    396\u001b[0m \u001b[38;5;124;03m\"\"\"\u001b[39;00m\n\u001b[1;32m    397\u001b[0m \u001b[38;5;28;01mif\u001b[39;00m _last_callback:\n\u001b[0;32m--> 398\u001b[0m     \u001b[38;5;28;01mreturn\u001b[39;00m \u001b[43m_last_callback\u001b[49m\u001b[38;5;241;43m.\u001b[39;49m\u001b[43mwait\u001b[49m\u001b[43m(\u001b[49m\u001b[43mignore_errors\u001b[49m\u001b[43m)\u001b[49m\n",
      "File \u001b[0;32m/opt/homebrew/lib/python3.9/site-packages/sounddevice.py:2645\u001b[0m, in \u001b[0;36m_CallbackContext.wait\u001b[0;34m(self, ignore_errors)\u001b[0m\n\u001b[1;32m   2639\u001b[0m \u001b[38;5;250m\u001b[39m\u001b[38;5;124;03m\"\"\"Wait for finished_callback.\u001b[39;00m\n\u001b[1;32m   2640\u001b[0m \n\u001b[1;32m   2641\u001b[0m \u001b[38;5;124;03mCan be interrupted with a KeyboardInterrupt.\u001b[39;00m\n\u001b[1;32m   2642\u001b[0m \n\u001b[1;32m   2643\u001b[0m \u001b[38;5;124;03m\"\"\"\u001b[39;00m\n\u001b[1;32m   2644\u001b[0m \u001b[38;5;28;01mtry\u001b[39;00m:\n\u001b[0;32m-> 2645\u001b[0m     \u001b[38;5;28;43mself\u001b[39;49m\u001b[38;5;241;43m.\u001b[39;49m\u001b[43mevent\u001b[49m\u001b[38;5;241;43m.\u001b[39;49m\u001b[43mwait\u001b[49m\u001b[43m(\u001b[49m\u001b[43m)\u001b[49m\n\u001b[1;32m   2646\u001b[0m \u001b[38;5;28;01mfinally\u001b[39;00m:\n\u001b[1;32m   2647\u001b[0m     \u001b[38;5;28mself\u001b[39m\u001b[38;5;241m.\u001b[39mstream\u001b[38;5;241m.\u001b[39mclose(ignore_errors)\n",
      "File \u001b[0;32m/opt/homebrew/Cellar/python@3.9/3.9.20/Frameworks/Python.framework/Versions/3.9/lib/python3.9/threading.py:581\u001b[0m, in \u001b[0;36mEvent.wait\u001b[0;34m(self, timeout)\u001b[0m\n\u001b[1;32m    579\u001b[0m signaled \u001b[38;5;241m=\u001b[39m \u001b[38;5;28mself\u001b[39m\u001b[38;5;241m.\u001b[39m_flag\n\u001b[1;32m    580\u001b[0m \u001b[38;5;28;01mif\u001b[39;00m \u001b[38;5;129;01mnot\u001b[39;00m signaled:\n\u001b[0;32m--> 581\u001b[0m     signaled \u001b[38;5;241m=\u001b[39m \u001b[38;5;28;43mself\u001b[39;49m\u001b[38;5;241;43m.\u001b[39;49m\u001b[43m_cond\u001b[49m\u001b[38;5;241;43m.\u001b[39;49m\u001b[43mwait\u001b[49m\u001b[43m(\u001b[49m\u001b[43mtimeout\u001b[49m\u001b[43m)\u001b[49m\n\u001b[1;32m    582\u001b[0m \u001b[38;5;28;01mreturn\u001b[39;00m signaled\n",
      "File \u001b[0;32m/opt/homebrew/Cellar/python@3.9/3.9.20/Frameworks/Python.framework/Versions/3.9/lib/python3.9/threading.py:312\u001b[0m, in \u001b[0;36mCondition.wait\u001b[0;34m(self, timeout)\u001b[0m\n\u001b[1;32m    310\u001b[0m \u001b[38;5;28;01mtry\u001b[39;00m:    \u001b[38;5;66;03m# restore state no matter what (e.g., KeyboardInterrupt)\u001b[39;00m\n\u001b[1;32m    311\u001b[0m     \u001b[38;5;28;01mif\u001b[39;00m timeout \u001b[38;5;129;01mis\u001b[39;00m \u001b[38;5;28;01mNone\u001b[39;00m:\n\u001b[0;32m--> 312\u001b[0m         \u001b[43mwaiter\u001b[49m\u001b[38;5;241;43m.\u001b[39;49m\u001b[43macquire\u001b[49m\u001b[43m(\u001b[49m\u001b[43m)\u001b[49m\n\u001b[1;32m    313\u001b[0m         gotit \u001b[38;5;241m=\u001b[39m \u001b[38;5;28;01mTrue\u001b[39;00m\n\u001b[1;32m    314\u001b[0m     \u001b[38;5;28;01melse\u001b[39;00m:\n",
      "\u001b[0;31mKeyboardInterrupt\u001b[0m: "
     ]
    }
   ],
   "source": [
    "recording_number = 1\n",
    "\n",
    "###############################################\n",
    "#                                             #\n",
    "# CHANGE THE NAME TO YOUR NAME IF NOT CORRECT #\n",
    "#                                             #\n",
    "###############################################\n",
    "\n",
    "CUSTOM_VOICE_NAME = \"alfio\"\n",
    "\n",
    "if not os.path.exists(f\"custom_voice/{CUSTOM_VOICE_NAME}\"):\n",
    "    os.makedirs(f\"custom_voice/{CUSTOM_VOICE_NAME}\")\n",
    "\n",
    "for i in range(10):\n",
    "    output_file = f\"custom_voice/{CUSTOM_VOICE_NAME}/{CUSTOM_VOICE_NAME}_{recording_number}.wav\"\n",
    "    record(freq, duration, output_file)\n",
    "    print(f\"Recording {recording_number} done!\")\n",
    "    recording_number += 1"
   ]
  }
 ],
 "metadata": {
  "kernelspec": {
   "display_name": ".venv",
   "language": "python",
   "name": "python3"
  },
  "language_info": {
   "codemirror_mode": {
    "name": "ipython",
    "version": 3
   },
   "file_extension": ".py",
   "mimetype": "text/x-python",
   "name": "python",
   "nbconvert_exporter": "python",
   "pygments_lexer": "ipython3",
   "version": "3.10.0"
  }
 },
 "nbformat": 4,
 "nbformat_minor": 2
}
