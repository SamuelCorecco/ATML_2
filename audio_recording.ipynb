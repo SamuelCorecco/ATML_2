{
 "cells": [
  {
   "cell_type": "code",
   "execution_count": 20,
   "metadata": {},
   "outputs": [
    {
     "name": "stdout",
     "output_type": "stream",
     "text": [
      "Requirement already satisfied: wavio in ./.venv/lib/python3.12/site-packages (0.0.9)\n",
      "Requirement already satisfied: numpy>=1.19.0 in ./.venv/lib/python3.12/site-packages (from wavio) (2.2.1)\n",
      "Note: you may need to restart the kernel to use updated packages.\n",
      "Requirement already satisfied: scipy in ./.venv/lib/python3.12/site-packages (1.14.1)\n",
      "Requirement already satisfied: numpy<2.3,>=1.23.5 in ./.venv/lib/python3.12/site-packages (from scipy) (2.2.1)\n",
      "Note: you may need to restart the kernel to use updated packages.\n",
      "Collecting sounddevice\n",
      "  Downloading sounddevice-0.5.1-py3-none-macosx_10_6_x86_64.macosx_10_6_universal2.whl.metadata (1.4 kB)\n",
      "Collecting CFFI>=1.0 (from sounddevice)\n",
      "  Downloading cffi-1.17.1-cp312-cp312-macosx_11_0_arm64.whl.metadata (1.5 kB)\n",
      "Collecting pycparser (from CFFI>=1.0->sounddevice)\n",
      "  Using cached pycparser-2.22-py3-none-any.whl.metadata (943 bytes)\n",
      "Downloading sounddevice-0.5.1-py3-none-macosx_10_6_x86_64.macosx_10_6_universal2.whl (107 kB)\n",
      "Downloading cffi-1.17.1-cp312-cp312-macosx_11_0_arm64.whl (178 kB)\n",
      "Using cached pycparser-2.22-py3-none-any.whl (117 kB)\n",
      "Installing collected packages: pycparser, CFFI, sounddevice\n",
      "Successfully installed CFFI-1.17.1 pycparser-2.22 sounddevice-0.5.1\n",
      "Note: you may need to restart the kernel to use updated packages.\n"
     ]
    }
   ],
   "source": [
    "%pip install wavio\n",
    "%pip install scipy\n",
    "%pip install sounddevice"
   ]
  },
  {
   "cell_type": "code",
   "execution_count": 33,
   "metadata": {},
   "outputs": [],
   "source": [
    "# import required libraries\n",
    "import sounddevice as sd\n",
    "from scipy.io.wavfile import write\n",
    "import wavio as wv\n",
    "import time\n",
    "import os\n",
    "\n",
    "# Sampling frequency\n",
    "freq = 44100\n",
    "\n",
    "# Recording duration\n",
    "duration = 10\n",
    "\n",
    "def record(freq, duration, output_file):\n",
    "\n",
    "    print(\"-------------------\")\n",
    "    print(\"3...\")\n",
    "    time.sleep(1)\n",
    "    print(\"2...\")\n",
    "    time.sleep(1)\n",
    "    print(\"1...\")\n",
    "    time.sleep(1)\n",
    "    print(\"Recording!\")\n",
    "\n",
    "\n",
    "    # Start recorder with the given values of duration and sample frequency\n",
    "    recording = sd.rec(int(duration * freq), \n",
    "                    samplerate=freq, channels=2)\n",
    "\n",
    "    # Record audio for the given number of seconds\n",
    "    sd.wait()\n",
    "\n",
    "    # Convert the NumPy array to audio file\n",
    "    wv.write(output_file, recording, freq, sampwidth=2)\n",
    "    \n",
    "    print(\"Stop!\")\n"
   ]
  },
  {
   "cell_type": "code",
   "execution_count": 37,
   "metadata": {},
   "outputs": [
    {
     "name": "stdout",
     "output_type": "stream",
     "text": [
      "-------------------\n",
      "3...\n",
      "2...\n",
      "1...\n",
      "Recording!\n",
      "-------------------\n",
      "3...\n",
      "2...\n",
      "1...\n",
      "Recording!\n",
      "-------------------\n",
      "3...\n",
      "2...\n",
      "1...\n",
      "Recording!\n",
      "-------------------\n",
      "3...\n",
      "2...\n",
      "1...\n",
      "Recording!\n",
      "-------------------\n",
      "3...\n",
      "2...\n",
      "1...\n",
      "Recording!\n"
     ]
    }
   ],
   "source": [
    "recording_number = 1\n",
    "CUSTOM_VOICE_NAME = \"alfio\"\n",
    "if not os.path.exists(f\"tortoise/voices/{CUSTOM_VOICE_NAME}\"):\n",
    "    os.makedirs(f\"tortoise/voices/{CUSTOM_VOICE_NAME}\")\n",
    "\n",
    "for i in range(5):\n",
    "    output_file = f\"tortoise/voices/{CUSTOM_VOICE_NAME}/{CUSTOM_VOICE_NAME}_{recording_number}.wav\"\n",
    "    record(freq, duration, output_file)\n",
    "    \n",
    "    recording_number += 1"
   ]
  }
 ],
 "metadata": {
  "kernelspec": {
   "display_name": ".venv",
   "language": "python",
   "name": "python3"
  },
  "language_info": {
   "codemirror_mode": {
    "name": "ipython",
    "version": 3
   },
   "file_extension": ".py",
   "mimetype": "text/x-python",
   "name": "python",
   "nbconvert_exporter": "python",
   "pygments_lexer": "ipython3",
   "version": "3.12.2"
  }
 },
 "nbformat": 4,
 "nbformat_minor": 2
}
